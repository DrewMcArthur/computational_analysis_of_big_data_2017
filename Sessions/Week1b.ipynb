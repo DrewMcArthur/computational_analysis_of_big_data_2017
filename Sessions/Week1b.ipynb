{
 "cells": [
  {
   "cell_type": "markdown",
   "metadata": {
    "run_control": {
     "frozen": false,
     "read_only": false
    }
   },
   "source": [
    "# Week 1"
   ]
  },
  {
   "cell_type": "markdown",
   "metadata": {},
   "source": [
    "Monday September 18th 2017\n",
    "\n",
    "----------\n",
    "\n",
    "**Welcome to *Computational Analysis of Big Data*!**\n",
    "\n",
    "In this course you'll learn how to work with large amounts of data and extract novel insights from real world complex systems. **If you aspire to become a Data Scientist down the road, this is the right course for you**. If you just want to learn more about working with Big Data (which is extremely useful in an increasingly data driven world), you have also come to the right place. And if you just came for the credits, I'm sure you'll have fun too (though I will make you work).\n",
    "\n",
    "**Below** I'll give a quick written introduction to some boring but **super important details** about how this course works. I'm gonna talk about it briefly during the session too, but I also want you to have it on text so it's crystal clear, because we are doing things way different than you may be used to from courses you have taken before - **treat yourself and read below**.\n",
    "\n",
    "**Each session is rooted in a notebook like this one**. I will talk for a bit, but after that you will independently work your way through the notebook and solve the exercises. Each notebook contains (1) a 'Session outline' of the things we'll go through in class, (2) a 'Preparation' note about things you have to do before attending the session, and (3) an 'Exercises' section containing the problems you are supposed to solve. I promise that each 'Preparation' note is unchanged in the 7 days leading up to its due date (so you can prepare in good time), however, the 'Exercises' section may see small changes leading up to each session, and possibly during in case some of you discover mistakes that should be corrected. I won't make major changes though, so if you have the time I do encourage you to have a look at the exercises before sessions. Doing this will give you a head start which you can use to ask more questions and help out your fellow students, ultimately saving you time and giving you a better learning experience. The notebooks are hosted on Github and you can stay up to date with the latest version of notebooks, lecture slides and assignments by cloning the course repository to your local machine and pulling once in a while.\n",
    "\n",
    "**There will be four assignments and a project during the course**. Each project compiles selected problems from previous weeks. You will hand in assignments in groups of size 2-3 that I will preassign you to by random draw from a magic bucket. As we approach the final stages of the course you are going to work on a project that involves using two or more of the tools that we have worked with in the course as well as a large dataset that you acquire on your own. You are also welcome to include other cool technologies that we haven't introduced (it will only make us all smarter). You choose the projects and project groups yourself (again size 2-3), and once you have settled on a group and an idea you can present it to me and get approval if I think it's suitable for the course. If not we will work on the idea until we come up with something nice, and if you can't agree on what to work on I'll fix you up with something. The projects are submitted in two stages: In the first stage you create a short video (less than 5 mins) that motivates and explains the project idea and what you intend to do. The second submission is a report in Jupyter Notebook format along with a 10 minute keynote presentation. I'll elaborate more on format and expectations as we progress.\n",
    "\n",
    "**You will hand in and evaluate using the system Peergrade.io**, which allows us to crowd-source evaluation. Peergrade distributes 2-4 handins to each student who must then reviews them according to a set of criteria that I have defined. Peer grading is completeely anonymous and has multiple benefits: you learn from your mistakes by seeing how other students solved the same problems, you get significantly more feedback than you would have if it was just me correcting all your homework and your grades are fair and robust to teacher-mistakes. The quality of your feedback on other students' work feeds into your own final grade and I'm not going to fit grades to a bell-curve, so there are no risk of students giving unfair feedback to their own benefit.\n",
    "\n",
    "**The philosophy behind the style of this course** is that it aligns my goals with yours: I want you to come to class, be prepared and work hard when you are here. You want to maximize learning while minimizing time spend doing school stuff so you can enjoy your stay in Denmark. If you come to class prepared and manage to work your way through the notebook, you only have a bit of reading and copy/pasting to do outside of class, **and you will be successful in this course.**"
   ]
  },
  {
   "cell_type": "markdown",
   "metadata": {},
   "source": [
    "## Session outline"
   ]
  },
  {
   "cell_type": "markdown",
   "metadata": {},
   "source": [
    "**This session** is mainly about introducing you to Big Data and Data Science. We'll also spend some time talking about the course and getting you warmed up to do some hacking. During class we will cover the following points:\n",
    "\n",
    "* Introduction to the course, and how we do things. The format may differ from what you are used to\n",
    "* Talk about how we hand in assignments and crowd-source performance evaluation using Peergrade.io\n",
    "* Course motivation with a short introduction to Data Science and the concept of Big Data\n",
    "* Group and plenary discussions about the use of Big Data in the real world\n",
    "* Getting up to speed with Github, Python and simple scripting in Jupyter Notebooks\n",
    "\n",
    "There is no preparation or exercises for this session. [Yay!](https://www.youtube.com/watch?v=UnEEVjWatXY&ab_channel=Willdrake)"
   ]
  },
  {
   "cell_type": "markdown",
   "metadata": {},
   "source": [
    "## Preparation"
   ]
  },
  {
   "cell_type": "markdown",
   "metadata": {},
   "source": [
    "There'll be a paragraph like this in every notebook. Usually it will tell you what to read, watch or research on your own. Today it is empty."
   ]
  },
  {
   "cell_type": "markdown",
   "metadata": {},
   "source": [
    "## Exercises"
   ]
  },
  {
   "cell_type": "markdown",
   "metadata": {},
   "source": [
    "This section will contain exercises which may be questions to the text you have read before coming to class, or programming exercises."
   ]
  }
 ],
 "metadata": {
  "kernelspec": {
   "display_name": "Python 2",
   "language": "python",
   "name": "python2"
  },
  "language_info": {
   "codemirror_mode": {
    "name": "ipython",
    "version": 2
   },
   "file_extension": ".py",
   "mimetype": "text/x-python",
   "name": "python",
   "nbconvert_exporter": "python",
   "pygments_lexer": "ipython2",
   "version": "2.7.12"
  },
  "nav_menu": {},
  "toc": {
   "navigate_menu": true,
   "number_sections": false,
   "sideBar": true,
   "threshold": 6,
   "toc_cell": false,
   "toc_section_display": "block",
   "toc_window_display": true
  }
 },
 "nbformat": 4,
 "nbformat_minor": 1
}
