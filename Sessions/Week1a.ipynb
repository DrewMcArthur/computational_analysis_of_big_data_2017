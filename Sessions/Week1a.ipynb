{
 "cells": [
  {
   "cell_type": "markdown",
   "metadata": {
    "run_control": {
     "frozen": false,
     "read_only": false
    }
   },
   "source": [
    "# Week 1"
   ]
  },
  {
   "cell_type": "markdown",
   "metadata": {},
   "source": [
    "Monday September 18th 2017"
   ]
  },
  {
   "cell_type": "markdown",
   "metadata": {},
   "source": [
    "## Session outline"
   ]
  },
  {
   "cell_type": "markdown",
   "metadata": {},
   "source": [
    "**This session** is mainly about introducing you to Big Data and Data Science. We'll also spend some time talking about the course and getting you warmed up to do some hacking. During class we will cover the following points:\n",
    "\n",
    "* Introduction to the course, and how we do things. The format may differ from what you are used to\n",
    "* **Course motivation with a short introduction to Big Data and the field of Data Science**\n",
    "* Group and plenary discussions about the use of Big Data in the real world\n",
    "* Getting up to speed with Github, Python and simple scripting in Jupyter Notebooks\n",
    "\n",
    "There are no exercises for this session. [Yay!](https://www.youtube.com/watch?v=UnEEVjWatXY&ab_channel=Willdrake)"
   ]
  },
  {
   "cell_type": "markdown",
   "metadata": {},
   "source": [
    "## Preparation"
   ]
  },
  {
   "cell_type": "markdown",
   "metadata": {},
   "source": [
    "### Learn"
   ]
  },
  {
   "cell_type": "markdown",
   "metadata": {},
   "source": [
    "There'll be a paragraph like this in every notebook. Usually it will tell you what to read, watch or research on your own.\n",
    "\n",
    ">Today, all you have to do is read the [README introduction to the course](https://github.com/ulfaslak/computational_analysis_of_big_data_2017) on the course Github page."
   ]
  },
  {
   "cell_type": "markdown",
   "metadata": {},
   "source": [
    "### Do"
   ]
  },
  {
   "cell_type": "markdown",
   "metadata": {},
   "source": []
  },
  {
   "cell_type": "markdown",
   "metadata": {},
   "source": [
    "## Exercises"
   ]
  },
  {
   "cell_type": "markdown",
   "metadata": {},
   "source": [
    "This section usually contains exercises such as questions to the text you have read, discussion questions or programming exercises."
   ]
  },
  {
   "cell_type": "code",
   "execution_count": null,
   "metadata": {
    "collapsed": true,
    "run_control": {
     "frozen": false,
     "read_only": false
    }
   },
   "outputs": [],
   "source": []
  }
 ],
 "metadata": {
  "kernelspec": {
   "display_name": "Python 2",
   "language": "python",
   "name": "python2"
  },
  "language_info": {
   "codemirror_mode": {
    "name": "ipython",
    "version": 2
   },
   "file_extension": ".py",
   "mimetype": "text/x-python",
   "name": "python",
   "nbconvert_exporter": "python",
   "pygments_lexer": "ipython2",
   "version": "2.7.13"
  },
  "nav_menu": {},
  "toc": {
   "navigate_menu": true,
   "number_sections": false,
   "sideBar": true,
   "threshold": 6,
   "toc_cell": false,
   "toc_section_display": "block",
   "toc_window_display": true
  }
 },
 "nbformat": 4,
 "nbformat_minor": 1
}
