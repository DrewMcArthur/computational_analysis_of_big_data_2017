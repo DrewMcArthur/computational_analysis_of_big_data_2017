{
 "cells": [
  {
   "cell_type": "markdown",
   "metadata": {
    "run_control": {
     "frozen": false,
     "read_only": false
    }
   },
   "source": [
    "# Week 1"
   ]
  },
  {
   "cell_type": "markdown",
   "metadata": {},
   "source": [
    "*Thursday, August 24, 2017*"
   ]
  },
  {
   "cell_type": "markdown",
   "metadata": {},
   "source": [
    "## Session outline"
   ]
  },
  {
   "cell_type": "markdown",
   "metadata": {},
   "source": [
    "**Foreword** Each week when you come to class, I will only give a short talk and then you will spend most of your time with a Jupyter notebook like this one. The notebooks contain all the problems you must solve, as well as an overview of the preparations you need to make before you can properly solve them. I recommend you take a clance at the most recent notebook each week *before coming to class*, so you have some feeling about what you're in store for.\n",
    "\n",
    "As I have talked about in class and written on the Assignments page, a subset of the exercises you solve in class amount to the assignments you are eventually going to hand in. *All of those exercises are inside notebooks like this one*. Therefore, if you show up each week, and complete all the exercises in the corresponding notebook you can spend weekends in Berlin and Paris without worrying much about me.\n",
    "\n",
    "**This session** We start out with the basics. There will be a few exercises that have you reflect a bit on the topic of Big Data, and then some exercises that just helps you get started with the Python programming language and Jupyter notebooks for executing code in that language (like this one)."
   ]
  },
  {
   "cell_type": "markdown",
   "metadata": {},
   "source": [
    "## Preparation"
   ]
  },
  {
   "cell_type": "markdown",
   "metadata": {},
   "source": [
    "There'll be a paragraph like this in every notebook. Usually it will tell you what to read, watch or research on your own.\n",
    "\n",
    ">Today, all you have to do is read the [README introduction to the course](https://github.com/ulfaslak/computational_analysis_of_big_data_2017) on the course Github page."
   ]
  },
  {
   "cell_type": "markdown",
   "metadata": {},
   "source": [
    "## Exercises"
   ]
  },
  {
   "cell_type": "markdown",
   "metadata": {},
   "source": [
    "This section usually contains exercises such as questions to the text you have read, discussion questions or programming exercises."
   ]
  },
  {
   "cell_type": "code",
   "execution_count": null,
   "metadata": {
    "collapsed": true,
    "run_control": {
     "frozen": false,
     "read_only": false
    }
   },
   "outputs": [],
   "source": []
  }
 ],
 "metadata": {
  "kernelspec": {
   "display_name": "Python 2",
   "language": "python",
   "name": "python2"
  },
  "language_info": {
   "codemirror_mode": {
    "name": "ipython",
    "version": 2
   },
   "file_extension": ".py",
   "mimetype": "text/x-python",
   "name": "python",
   "nbconvert_exporter": "python",
   "pygments_lexer": "ipython2",
   "version": "2.7.13"
  },
  "nav_menu": {},
  "toc": {
   "navigate_menu": true,
   "number_sections": false,
   "sideBar": true,
   "threshold": 6,
   "toc_cell": false,
   "toc_section_display": "block",
   "toc_window_display": true
  }
 },
 "nbformat": 4,
 "nbformat_minor": 1
}
