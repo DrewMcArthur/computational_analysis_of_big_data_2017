{
 "cells": [
  {
   "cell_type": "markdown",
   "metadata": {},
   "source": [
    "> **DO NOT EDIT IF INSIDE `computational_analysis_of_big_data_2017` folder** "
   ]
  },
  {
   "cell_type": "markdown",
   "metadata": {},
   "source": [
    "# Week 3"
   ]
  },
  {
   "cell_type": "markdown",
   "metadata": {},
   "source": [
    "*Thursday, September 7, 2017*"
   ]
  },
  {
   "cell_type": "markdown",
   "metadata": {},
   "source": [
    "## Outline"
   ]
  },
  {
   "cell_type": "markdown",
   "metadata": {
    "ExecuteTime": {
     "end_time": "2017-08-23T15:30:03.634114Z",
     "start_time": "2017-08-23T15:30:03.629294Z"
    }
   },
   "source": [
    "Today we will be working through chapters 4, 5, 6 (and a little bit of 7). This is stuff that you're all probably familiar with to some extend, but since we are doing everything from scratch it is a good opportunity to sharpen our Python skills and refresh some important topics.\n",
    "\n",
    "There will be some exercises for each chapter—some requiring careful thinking and others requiring you to code. You'll also be doing a bit of plotting but that should all be easy after last weeks exercises.\n",
    "\n",
    "The exercises today cover:\n",
    "* Linear algebra\n",
    "* Statistics (very basic)\n",
    "* Probability theory\n",
    "* Hypothesis testing"
   ]
  },
  {
   "cell_type": "markdown",
   "metadata": {},
   "source": [
    "## Material"
   ]
  },
  {
   "cell_type": "markdown",
   "metadata": {},
   "source": [
    "*Data Science from Scratch* Chapter 4, 5, 6(, 7).\n",
    "* *Chapter 4 - Linear algebra:* This is a short and super important chapter. Vectors and matrices are key to representing data and operating on it. It's not a very mathy chapter, just a short introduction on how to think of data as vectors and matrices.\n",
    "* *Chapter 5 - Statistics:* In data science we constantly need to summarize data so we can make simple statements that more or less represent whatever complicated thing the underlying data is doing. This chapter introduces some useful tools from statistics that help us do this.\n",
    "* *Chapter 6 - Probability:* Everything is somewhat random, especially data. Probability theory is, therefore—maybe unsurprisingly—the single most important prerequisite to understanding how something like Machine Learning works. This chapter is a bit heavier than the previous two, so we'll take only a few of the most important points with us.\n",
    "* *Chapter 7 - Hypothesis and Inference:* This lies at the heart of the scientific method, which we must follow in order to say anything valid based on data. It's a bit too much to also ask you to read this one ahead of class, but we will cover it in the exercises because it relates to today's topic. Worry about this if you get this far today, otherwise just know that concepts like \"p-value\" and \"null-hypothesis\" are super important things that you will bump into sooner or later."
   ]
  },
  {
   "cell_type": "markdown",
   "metadata": {},
   "source": [
    "## Exercises"
   ]
  },
  {
   "cell_type": "markdown",
   "metadata": {},
   "source": [
    "Throughout his book, Joel uses code instead of math to explain, well... math. While **you should challenge yourself to understand his snippets** (because they very simply explain difficult math), don't copy the code—you don't need it. Python the libraries like `numpy` and `scipy` which are excellent for computing various statistics, and you should learn how to use them. I went ahead and imported `numpy` for you, because you will need it in the exercises."
   ]
  },
  {
   "cell_type": "code",
   "execution_count": 4,
   "metadata": {
    "ExecuteTime": {
     "end_time": "2017-08-30T13:20:50.390303Z",
     "start_time": "2017-08-30T13:20:50.386900Z"
    },
    "collapsed": true,
    "run_control": {
     "frozen": false,
     "read_only": false
    }
   },
   "outputs": [],
   "source": [
    "import numpy as np\n",
    "from __future__ import print_function"
   ]
  },
  {
   "cell_type": "markdown",
   "metadata": {},
   "source": [
    "### Part 1: Linear algebra (DSFS Chapter 4)"
   ]
  },
  {
   "cell_type": "markdown",
   "metadata": {
    "ExecuteTime": {
     "end_time": "2017-08-23T14:01:10.834257Z",
     "start_time": "2017-08-23T14:01:10.826472Z"
    }
   },
   "source": [
    ">**Ex. 3.1.1**: What does Joel mean when he uses the word *vector*?"
   ]
  },
  {
   "cell_type": "markdown",
   "metadata": {},
   "source": [
    "A one-dimensional tensor, a list of numbers. "
   ]
  },
  {
   "cell_type": "markdown",
   "metadata": {
    "collapsed": true,
    "run_control": {
     "frozen": false,
     "read_only": false
    }
   },
   "source": [
    ">**Ex. 3.1.2**: Using `numpy`, compute:\n",
    "1. `2 * [2, 3]`,\n",
    "2. `[3, 8] + [6, 1]`,\n",
    "3. `[3, 8] * [6, 1]` and\n",
    "4. `[3, 8] · [6, 1]` (that's a dot product)?"
   ]
  },
  {
   "cell_type": "code",
   "execution_count": 16,
   "metadata": {},
   "outputs": [
    {
     "name": "stdout",
     "output_type": "stream",
     "text": [
      "2\n"
     ]
    },
    {
     "data": {
      "text/plain": [
       "[array([4, 6]), array([9, 9]), array(-45), 26]"
      ]
     },
     "execution_count": 16,
     "metadata": {},
     "output_type": "execute_result"
    }
   ],
   "source": [
    "a = []\n",
    "a.append(np.multiply(2, [2, 3]))\n",
    "a.append(np.add([3, 8], [6, 1]))\n",
    "a.append(np.cross([3, 8], [6, 1]))\n",
    "a.append(np.dot([3, 8], [6, 1]))\n",
    "a"
   ]
  },
  {
   "cell_type": "markdown",
   "metadata": {},
   "source": [
    ">**Ex. 3.1.3**: What does a dot product measure? Why does the dot product of a vector with itself give you the length of that vector?"
   ]
  },
  {
   "cell_type": "markdown",
   "metadata": {},
   "source": [
    "the product of their magnitudes by the cosine of the angle between them.  This happens because the angle between equal vectors is 0, cos(0) = 1, so 1 * the magnitude squared."
   ]
  },
  {
   "cell_type": "markdown",
   "metadata": {},
   "source": [
    ">**Ex. 3.1.4**: An $n \\times k$ matrix has how many rows and columns? Construct a $5\\times5$ matrix with `numpy`."
   ]
  },
  {
   "cell_type": "markdown",
   "metadata": {},
   "source": [
    "n rows and k columns"
   ]
  },
  {
   "cell_type": "code",
   "execution_count": 10,
   "metadata": {},
   "outputs": [
    {
     "data": {
      "text/plain": [
       "array([[ 0.,  0.,  0.,  0.,  0.],\n",
       "       [ 0.,  0.,  0.,  0.,  0.],\n",
       "       [ 0.,  0.,  0.,  0.,  0.],\n",
       "       [ 0.,  0.,  0.,  0.,  0.],\n",
       "       [ 0.,  0.,  0.,  0.,  0.]])"
      ]
     },
     "execution_count": 10,
     "metadata": {},
     "output_type": "execute_result"
    }
   ],
   "source": [
    "np.zeros(shape=(5,5))"
   ]
  },
  {
   "cell_type": "markdown",
   "metadata": {},
   "source": [
    ">**Ex. 3.1.5**: Joel mentions three applications of matrices in Data Science. What are they?"
   ]
  },
  {
   "cell_type": "markdown",
   "metadata": {},
   "source": [
    "For representing data sets consisting of multiple vectors, linear functions, and binary relationships.  "
   ]
  },
  {
   "cell_type": "markdown",
   "metadata": {},
   "source": [
    ">**Ex. 3.1.6**: What are some reasons that the (adjacency) matrix representation of friendships may be better than the list representation from Chapter 1?"
   ]
  },
  {
   "cell_type": "markdown",
   "metadata": {},
   "source": [
    "Memory efficiency if there are a large number of connections.  Quicker lookups for single and multiple connections, scalability. "
   ]
  },
  {
   "cell_type": "markdown",
   "metadata": {},
   "source": [
    "### Part 2: Statistics (DSFS Chapter 5)"
   ]
  },
  {
   "cell_type": "markdown",
   "metadata": {},
   "source": [
    ">**Ex. 3.2.1**: Take a vector `a = [1, 3, 2, 5, 3, 1, 5, 1, 9000]`:\n",
    "1. Compute the mean of `a` using `numpy`.\n",
    "2. How is median defined? Compute the median of `a` using `numpy`.\n",
    "3. For `a`, why might it make sense to take the median more seriously than the mean?"
   ]
  },
  {
   "cell_type": "code",
   "execution_count": 18,
   "metadata": {},
   "outputs": [
    {
     "name": "stdout",
     "output_type": "stream",
     "text": [
      "1002.33333333\n",
      "3.0\n"
     ]
    }
   ],
   "source": [
    "a = [1, 3, 2, 5, 3, 1, 5, 1, 9000]\n",
    "print(np.mean(a))\n",
    "print(np.median(a)) # the average of the 1 or 2 middle terms of the list\n",
    "\n",
    "# the median is less susceptible to skew by outliers, and is therefore a more reliable representation of data."
   ]
  },
  {
   "cell_type": "markdown",
   "metadata": {},
   "source": [
    ">**Ex. 3.2.2**: Using the same vector `a`:\n",
    "1. How is *range* defined? Compute it.\n",
    "2. How is *variance* defined? How does variance and standard deviation relate? Compute them.\n",
    "3. What is the interquartile range? Compute it."
   ]
  },
  {
   "cell_type": "code",
   "execution_count": 25,
   "metadata": {},
   "outputs": [
    {
     "name": "stdout",
     "output_type": "stream",
     "text": [
      "8999\n",
      "7995336.22222\n",
      "4.0\n"
     ]
    }
   ],
   "source": [
    "print(np.ptp(a)) # range is the largest number - the smallest number\n",
    "print(np.var(a)) # avg = mean(a); mean([(x-avg)**2 for x in a])\n",
    "print(np.subtract(*np.percentile(a, [75, 25]))) # get the number at the 75th percentile and the 25th percentile \n",
    "                                                # and subrtract them. "
   ]
  },
  {
   "cell_type": "markdown",
   "metadata": {},
   "source": [
    ">**Ex. 3.2.3**: Covariance and correlation are both measures of trend similarity.\n",
    "1. How do they relate?\n",
    "2. Compute the correlation between `a` and `b = [0, 4, 1, 6, 2, 0, 6, 0, 2]`.\n",
    "3. How does that result change if you remove the last data-point from each list? Why? What word do we use for that last point?"
   ]
  },
  {
   "cell_type": "markdown",
   "metadata": {},
   "source": [
    ">**Ex. 3.2.4**: Why does correlation NOT imply causation? What are ways of inferring causation?"
   ]
  },
  {
   "cell_type": "markdown",
   "metadata": {},
   "source": [
    "### Part 3: Probability (DSFS Chapter 6)"
   ]
  },
  {
   "cell_type": "markdown",
   "metadata": {},
   "source": [
    ">**Ex. 3.3.1**: What does it mean that the probabilities of two different events are dependent? Can you give an example of events whose probabilities of occuring depend on each other (name something that is not in the book)?"
   ]
  },
  {
   "cell_type": "markdown",
   "metadata": {},
   "source": [
    ">**Ex. 3.3.2**: Joel gives an example in the book that illustrates the conditional probablity of “both children are girls” knowing “at least one of the children is a girl” versus the probability that \"both children are girls\" knowing \"the older child is a girl\". He computes these probabilities with the code below"
   ]
  },
  {
   "cell_type": "code",
   "execution_count": 66,
   "metadata": {
    "ExecuteTime": {
     "end_time": "2017-08-30T15:02:37.188923Z",
     "start_time": "2017-08-30T15:02:37.141194Z"
    },
    "run_control": {
     "frozen": false,
     "read_only": false
    }
   },
   "outputs": [
    {
     "name": "stdout",
     "output_type": "stream",
     "text": [
      "P(both | older): 0.514228456914\n",
      "P(both | either):  0.341541328364\n"
     ]
    }
   ],
   "source": [
    "import random\n",
    "\n",
    "def random_kid():\n",
    "    return random.choice([\"boy\", \"girl\"])\n",
    "\n",
    "both_girls = 0\n",
    "older_girl = 0\n",
    "either_girl = 0\n",
    "\n",
    "random.seed(0)\n",
    "for _ in range(10000):\n",
    "    younger = random_kid()\n",
    "    older = random_kid()\n",
    "    if older == \"girl\":\n",
    "        older_girl += 1\n",
    "    if older == \"girl\" and younger == \"girl\":\n",
    "        both_girls += 1\n",
    "    if older == \"girl\" or younger == \"girl\":\n",
    "        either_girl += 1\n",
    "\n",
    "print \"P(both | older):\", both_girls * 1.0 / older_girl      # 0.514 ~ 1/2\n",
    "print \"P(both | either): \", both_girls * 1.0 / either_girl   # 0.342 ~ 1/3"
   ]
  },
  {
   "cell_type": "markdown",
   "metadata": {},
   "source": [
    ">Now imagine a family with three children. Assume the only genders are 'boy' and 'girl' and that their probability of occuring are equal and independent. Write a similar piece of code that computes:\n",
    "1. the probability of three girls?\n",
    "1. the probability of two girls and one boy?\n",
    "1. the probability of one girl and two boys?\n",
    "1. the probability of three boys?\n",
    "1. the probability that all children are girls given that the oldest child is a girl?\n",
    "1. the probability that all children are girls given that one of the children is a girl?"
   ]
  },
  {
   "cell_type": "markdown",
   "metadata": {},
   "source": [
    ">**Ex. 3.3.3**: Central limit theorem.\n",
    "\n",
    ">The central limit theorem is fun because we can get Gaussian distributions from probability distributions that are _not_ Gaussian. Let's explore that in the following exercise.\n",
    "* Use Python's `random` module to simulate rolling a fair six-sided die `1E7` times.\n",
    "* Plot the distribution of dice rolls using a bar-chart. _Hint_: Use `Counter` (see p. 24) to bin the values, then go back to Chapter 3 for examples of how to plot bar-charts.\n",
    "* Describe the shape of the distribution.\n",
    "* Now perform a new simulation. Roll a fair six-sided die 10 times and take the _average_. Do that `1E6` times.\n",
    "* Plot the distribution of those average values. This time you can't use `Counter` (since the averages are not integer values).\n",
    "    - Instead use `numpy.histogram` to distribute those numbers into 25 bins. \n",
    "    - What does the `numpy.histogram` function return? Do the two arrays have the same length?\n",
    "    - Then let's use `matplotlib.pyplot.bar` to plot the binned data. You will have to deal with the fact that the counts- and bin-arrays have different lengths. Explain how you deal with this problem and why.\n",
    "    \n",
    "    \n",
    ">* Describe the shape of _this_ distribution. Explain in your own words what happened to that flat distribution of die-rolls to suddenly make it Gaussian just by taking some averages.\n",
    "* Calculate the mean and standard deviation of the averaged values. Could you have predicted these values by reading DSFS pp. 78-80?"
   ]
  },
  {
   "cell_type": "markdown",
   "metadata": {},
   "source": [
    "### Part 4: Hypothesis and inference  (DSFS Chapter 7)\n",
    "\n",
    "There's a lot going on in Chapter 7, enough for an entire course really, and I didn't ask you to read this one ahead so the job is just to brush through and get a sense of what's going on. In particular, I recommend taking a close look at the cental example about testing the fairness of a coin. That example nicely captures the cental concepts.\n",
    "\n",
    "Hypothesis testing and inference is, however, extremely important in any science that uses data (that's a tautology), so I have prepared a couple of questions to help you show that you've looked at the text and captured the gist."
   ]
  },
  {
   "cell_type": "markdown",
   "metadata": {},
   "source": [
    ">**Ex 3.4.1**: What's the null hypothesis when testing if a coin is fair?"
   ]
  },
  {
   "cell_type": "markdown",
   "metadata": {},
   "source": [
    ">**Ex 3.4.2**: Explain in your own words what Joel means by _significance_ on p. 83."
   ]
  },
  {
   "cell_type": "markdown",
   "metadata": {},
   "source": [
    ">**Ex 3.4.3**: Explain in your own words what Joel means by _power_ on p. 83."
   ]
  },
  {
   "cell_type": "markdown",
   "metadata": {},
   "source": [
    ">**Ex 3.4.4**: Write down a short definition of $p$-value."
   ]
  },
  {
   "cell_type": "markdown",
   "metadata": {},
   "source": [
    ">**Ex 3.4.5**: Explain the problem with $p$-hacking."
   ]
  }
 ],
 "metadata": {
  "kernelspec": {
   "display_name": "Python 2",
   "language": "python",
   "name": "python2"
  },
  "language_info": {
   "codemirror_mode": {
    "name": "ipython",
    "version": 2
   },
   "file_extension": ".py",
   "mimetype": "text/x-python",
   "name": "python",
   "nbconvert_exporter": "python",
   "pygments_lexer": "ipython2",
   "version": "2.7.13"
  },
  "nav_menu": {},
  "toc": {
   "navigate_menu": true,
   "number_sections": false,
   "sideBar": true,
   "threshold": 6,
   "toc_cell": false,
   "toc_section_display": "block",
   "toc_window_display": true
  }
 },
 "nbformat": 4,
 "nbformat_minor": 1
}
