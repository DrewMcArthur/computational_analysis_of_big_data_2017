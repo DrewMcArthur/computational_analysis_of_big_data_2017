{
 "cells": [
  {
   "cell_type": "markdown",
   "metadata": {},
   "source": [
    "> **DO NOT EDIT IF INSIDE `computational_analysis_of_big_data_2017` folder** "
   ]
  },
  {
   "cell_type": "markdown",
   "metadata": {},
   "source": [
    "# Week 2"
   ]
  },
  {
   "cell_type": "markdown",
   "metadata": {},
   "source": [
    "*Thursday, August 31, 2017*"
   ]
  },
  {
   "cell_type": "markdown",
   "metadata": {},
   "source": [
    "## Outline"
   ]
  },
  {
   "cell_type": "markdown",
   "metadata": {
    "ExecuteTime": {
     "end_time": "2017-08-23T15:30:03.634114Z",
     "start_time": "2017-08-23T15:30:03.629294Z"
    }
   },
   "source": [
    "This week's exercises build on what you have read (or will read) for today in the book we use for this course. We cover:\n",
    "* The introduction to the book\n",
    "* Useful Python functionality\n",
    "* Some more advanced Reddit scraping and visualization of that data\n",
    "\n",
    "This is the last week where we will be doing Python for the sake of learning Python. If you feel that it is very difficult you should read the chapter in the book carefully. Alternatively, you can go through [Codeacademy's Python course](https://www.codecademy.com/learn/learn-python).\n",
    "\n",
    "**A word of advice**: Some of you may be new to solving problems using code. At this point you may be wondering what level of detail I expect from your solutions. This is the guideline: Solve the exercises in a manner that allows you to—later in life—use them as examples. This also means that you should add code comments when the code isn't self-explanatory or if you're afraid it won't make sense when you look at it with fresh eyes. You may also want to comment on your output in plain text to capture the conclusions you arrive at throughout your analysis. But express yourself succinctly. When you optimize for your own future comprehension, you also optimize for mine (and your peers')."
   ]
  },
  {
   "cell_type": "markdown",
   "metadata": {},
   "source": [
    "## Material"
   ]
  },
  {
   "cell_type": "markdown",
   "metadata": {},
   "source": [
    "*Data Science from Scratch* Chapter 1, 2, 3.\n",
    "* *Chapter 1 - Introduction:* Read this. It introduces data science very nicely and sets the stage for the book.\n",
    "* *Chapter 2 - A Crash Course in Python:* Study pages 15-26, and maybe take a dip into \"The Not-So-Basics\" if you feel like challenging yourself. If you are a skilled Python programmer at this point you can dash through a lot of this and take a closer look when things look foreign.\n",
    "* *Chapter 3 - Visualizing Data:* This is a very short chapter that gives a few examples of how to use `matplotlib`, which is the Python library we we'll be using for data visualization. Read the introduction, take note of what's in there and use it as reference when you need it."
   ]
  },
  {
   "cell_type": "markdown",
   "metadata": {},
   "source": [
    "## Exercises"
   ]
  },
  {
   "cell_type": "markdown",
   "metadata": {},
   "source": [
    "### DSFS Chapter 1 - Introduction"
   ]
  },
  {
   "cell_type": "markdown",
   "metadata": {
    "ExecuteTime": {
     "end_time": "2017-08-23T14:01:10.834257Z",
     "start_time": "2017-08-23T14:01:10.826472Z"
    }
   },
   "source": [
    ">**Ex. 2.0a**: The VP of Networking tasks you with finding the key connectors in the company.\n",
    "1. Which of your colleagues have greatest degree centrality? What is the value?\n",
    "2. Who has the lowest? What is that value?\n",
    "3. Skip ahead to chapter 21. Who has the highest betweenness centrality, and why?"
   ]
  },
  {
   "cell_type": "markdown",
   "metadata": {},
   "source": [
    ">**Ex. 2.0b**: The VP of Public Relations asks you to produce some fun fact about how much data scientists earn. She gives you a datasheet which pairs tenure with yearly salary.\n",
    "1. Why is it useless to aggregate salary for each tenure? How does bucket'ing (also: *histogramming*) help?\n",
    "2. Joel hints at a fundamental problem with the bucketing approach when he writes \"...we chose the buckets in a pretty arbitrary way.\" What could that problem be?\n",
    "3. Can you give an example of a method that could be used for predicting the salary effect of having an additional year of experience?\n"
   ]
  },
  {
   "cell_type": "markdown",
   "metadata": {},
   "source": [
    "### DSFS Chapter 2 - A Crash Course in Python"
   ]
  },
  {
   "cell_type": "markdown",
   "metadata": {},
   "source": [
    ">**Ex. 2.1a**: Which is better:\n",
    "1. Simple or complex?\n",
    "2. Flat or nested?\n",
    "3. Sparse or dense?\n",
    "\n",
    ">*Hint: find the Zen within*"
   ]
  },
  {
   "cell_type": "markdown",
   "metadata": {},
   "source": [
    ">**Ex. 2.1b**: Why does `5 / 2` give `2` in Python 2.7?"
   ]
  },
  {
   "cell_type": "markdown",
   "metadata": {},
   "source": [
    ">**Ex. 2.1c**: What is the point of using `try` and `except`? Write some code that shows how to use these."
   ]
  },
  {
   "cell_type": "markdown",
   "metadata": {},
   "source": [
    ">**Ex 2.1d**: About `defaultdict`s:\n",
    "1. What is a `defaultdict`? How would you say it is different from a normal Python `dict`?\n",
    "2. Write some code that takes a list of tuples:\n",
    "\n",
    ">        l = [(\"a\", 1), (\"b\", 3), (\"a\", None), (\"c\", False), (\"b\", True), (\"a\", None)]\n",
    "\n",
    ">     And produces a `defaultdict` object\n",
    "\n",
    ">        defaultdict(<type 'list'>, {'a': [1, None, None], 'c': [False], 'b': [3, True]})\n",
    "\n",
    ">*Hint: you can import `defaultdict` from `collections`*"
   ]
  },
  {
   "cell_type": "markdown",
   "metadata": {},
   "source": [
    ">**Ex 2.1e**: Take a list `a = list(\"justreadtheinstructions\")` and\n",
    "1. count the number of times each element occurs using `Counter`,\n",
    "2. report the two most common elements\n",
    "\n",
    ">*Hint: you can import `Counter` from `collections`*"
   ]
  },
  {
   "cell_type": "markdown",
   "metadata": {},
   "source": [
    ">**Ex 2.1f**: Take another list `b = list(\"ofcourseistillloveyou\")` and\n",
    "1. get the `set` of characters that exist in both `a` and `b` (intersection),\n",
    "2. get the `set` of characters that exist in either `a` or `b` (union), and\n",
    "3. compute the [Jaccard similarity](https://en.wikipedia.org/wiki/Jaccard_index) between the distinct elements in `a` and `b`.\n",
    "\n",
    ">*Hint: use the `set` function to get a `set`-type object of distinct elements from a list*"
   ]
  },
  {
   "cell_type": "markdown",
   "metadata": {},
   "source": [
    "### DSFS Chapter 3 - Visualization"
   ]
  },
  {
   "cell_type": "markdown",
   "metadata": {},
   "source": [
    ">**Ex. 2.2a**: Create two lists, `x` and `y`, that each contain 10 numbers of your liking. Using `matplotlib`'s `scatter` function, plot these two lists against each other. Give your figure x and y axis labels and a title.\n",
    "\n",
    ">*Hint: To get figures to display inside the notebook, use the Jupyter magic `%matplotlib inline`* <br>\n",
    ">***Info***:* From now on, unless otherwise stated, you should always label your axes and title your figure appropriately.*"
   ]
  },
  {
   "cell_type": "markdown",
   "metadata": {},
   "source": [
    ">**Ex. 2.2b**: Plot the score versus number of comments for posts on the `gameofthrones` and `news` subreddits.\n",
    "1. The coding part\n",
    "    * Write a function that takes as input the name of a subreddit and returns the data on the subreddit as a json object.\n",
    "    * Write another function that takes as input some reddit data, extracts the scores and number of comments into seperate lists and returns both lists.\n",
    "    * Using these functions, get a set of x and y variables for each subreddit.\n",
    "    * In two seperate figures, floating side by side, scatter plot each set of x and y variables against each other. Choose different colors for the points in either plot.\n",
    "2. The reflecting part\n",
    "    * The News and GOT trends look distinctly different. Explain how they look different. Why might this be?\n",
    "\n",
    ">My figure looks like [this](http://ulfaslak.com/computational_analysis_of_big_data/exer_figures/example_2.2b.png).\n",
    "\n",
    ">*Protip: Write a function that takes as input the name of the subreddit and returns the x and y variables.*<br>"
   ]
  },
  {
   "cell_type": "markdown",
   "metadata": {},
   "source": [
    ">**Ex. 2.2c**: Looking at the scatter plots there appears to be some unevenness in the number of comments and upvotes that different posts receive.\n",
    "1. Plot the distributions of x for GOT and News as histograms, side by side.\n",
    "2. What do these distributions say about how people comment on Reddit?\n",
    "\n",
    ">My figure looks like [this](http://ulfaslak.com/computational_analysis_of_big_data/exer_figures/example_2.2c.png)."
   ]
  },
  {
   "cell_type": "markdown",
   "metadata": {},
   "source": [
    ">**Ex. 2.2d**: You may have noticed that the data['data'] object has a key called 'after'.\n",
    "1. What do you think this is?\n",
    "2. Write a function that takes an integer `N` and the name of a subreddit, and returns a JSON with all posts on the first `N` pages of that subreddit. Use it to retrieve a large number of posts.\n",
    "3. Make an updated version of the figures you produced in Ex. 2.2b-c with this larger dataset.\n",
    "4. Visualize the number of posts over time."
   ]
  }
 ],
 "metadata": {
  "kernelspec": {
   "display_name": "Python 2",
   "language": "python",
   "name": "python2"
  },
  "language_info": {
   "codemirror_mode": {
    "name": "ipython",
    "version": 2
   },
   "file_extension": ".py",
   "mimetype": "text/x-python",
   "name": "python",
   "nbconvert_exporter": "python",
   "pygments_lexer": "ipython2",
   "version": "2.7.13"
  },
  "nav_menu": {},
  "toc": {
   "navigate_menu": true,
   "number_sections": false,
   "sideBar": true,
   "threshold": 6,
   "toc_cell": false,
   "toc_section_display": "block",
   "toc_window_display": true
  }
 },
 "nbformat": 4,
 "nbformat_minor": 1
}
