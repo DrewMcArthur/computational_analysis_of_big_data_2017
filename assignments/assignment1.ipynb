{
 "cells": [
  {
   "cell_type": "markdown",
   "metadata": {
    "run_control": {
     "frozen": false,
     "read_only": false
    }
   },
   "source": [
    "> **DO NOT EDIT IF INSIDE `computational_analysis_of_big_data_2017` folder** "
   ]
  },
  {
   "cell_type": "markdown",
   "metadata": {},
   "source": [
    "# Assignment 1"
   ]
  },
  {
   "cell_type": "markdown",
   "metadata": {},
   "source": [
    "**Handin in Peergrade**: *Wednesday, September 27, 2017*<br>\n",
    "**Peergrading deadline**: *Wednesday, October 4th, 2017*"
   ]
  },
  {
   "cell_type": "markdown",
   "metadata": {},
   "source": [
    "## Problems"
   ]
  },
  {
   "cell_type": "markdown",
   "metadata": {},
   "source": [
    ">**Ex. 2.3.4**: You may have noticed that the data['data'] object has a key called 'after'.\n",
    "1. What do you think this is?\n",
    "2. Write a function that takes an integer `N` and the name of a subreddit, and returns a JSON with all posts on the first `N` pages of that subreddit. Use it to retrieve a large number of posts.\n",
    "3. Make an updated version of the figures you produced in Ex. 2.3.2-3 with this larger dataset.\n",
    "4. Visualize the number of posts over time."
   ]
  },
  {
   "cell_type": "code",
   "execution_count": null,
   "metadata": {},
   "outputs": [],
   "source": [
    "# 1. to get the next page of posts\n",
    "\n",
    "import requests \n",
    "\n",
    "def getData(link):\n",
    "    \"\"\" given the name of a subreddit, return a json object of the sub's data \"\"\"\n",
    "    # wait for the request to succeed. if 'data' is not in data's keys, \n",
    "    # then the returned json object is just an error message, so try again in 5 seconds.\n",
    "    data = {}\n",
    "    while 'data' not in data:\n",
    "        data = requests.get(\"https://www.reddit.com/\"+link+\"/.json\").json()\n",
    "        \n",
    "    # once we get a populated json object, we can return that.\n",
    "    return data\n",
    "\n",
    "def getNPages(subreddit, n):\n",
    "    data = getData('r/'+subreddit)\n",
    "    posts = data['data']['children']\n",
    "    print(\"got first page\")\n",
    "    for _ in range(n-1):\n",
    "        nextpage = data['data']['after'][3:]\n",
    "        print(\"fetching data from \" + nextpage)\n",
    "        data = getData(nextpage)\n",
    "        print(data)\n",
    "        posts += data['data']['children']\n",
    "        print(\"we now have \"+len(posts) + \" posts.\")\n",
    "    return posts\n",
    "\n",
    "ps = getNPages('news', 3)\n",
    "print(ps)\n",
    "\n",
    "def getScoresAndComments(data):\n",
    "    \"\"\" given the data from a subreddit, \n",
    "        return lists of the number of comments and scores of the posts \"\"\"\n",
    "    scores = [x['data']['score'] for x in data]\n",
    "    comments = [x['data']['num_comments'] for x in data]\n",
    "    return (scores, comments)\n",
    "\n",
    "# get json data and lists of the scores and comments for the two subs\n",
    "newsScores, newsComments = getScoresAndComments(posts)\n",
    "GoTScores, GoTComments = getScoresAndComments(posts)\n",
    "\n",
    "# create sub plots\n",
    "f, (gplt, nplt) = plt.subplots(1, 2, figsize=(20, 10), sharex=True, sharey=True)\n",
    "\n",
    "# set the overall title\n",
    "plt.suptitle(\"Numbers of Comments vs Score of posts across subreddits\")\n",
    "\n",
    "# creating the GoT subplot\n",
    "gplt.set_ylabel(\"Scores\")\n",
    "gplt.set_xlabel(\"Number of Comments\")\n",
    "gplt.set_title(\"r/GoT\")\n",
    "gplt.scatter(GoTComments, GoTScores, color='green')\n",
    "\n",
    "# creating the news subplot\n",
    "nplt.set_title(\"r/news\")\n",
    "nplt.set_ylabel(\"Scores\")\n",
    "nplt.set_xlabel(\"Number of Comments\")\n",
    "nplt.scatter(newsComments, newsScores)\n",
    "\n",
    "plt.show()"
   ]
  },
  {
   "cell_type": "markdown",
   "metadata": {},
   "source": [
    ">**Ex. 3.3.2**: Joel gives an example in the book that illustrates the conditional probablity of “both children are girls” knowing “at least one of the children is a girl” versus the probability that \"both children are girls\" knowing \"the older child is a girl\". He computes these probabilities with the code below"
   ]
  },
  {
   "cell_type": "code",
   "execution_count": 1,
   "metadata": {
    "ExecuteTime": {
     "end_time": "2017-09-15T14:23:13.638907Z",
     "start_time": "2017-09-15T14:23:13.599714Z"
    },
    "run_control": {
     "frozen": false,
     "read_only": false
    }
   },
   "outputs": [
    {
     "name": "stdout",
     "output_type": "stream",
     "text": [
      "P(both | older): 0.514228456914\n",
      "P(both | either):  0.341541328364\n"
     ]
    }
   ],
   "source": [
    "import random\n",
    "\n",
    "def random_kid():\n",
    "    return random.choice([\"boy\", \"girl\"])\n",
    "\n",
    "both_girls = 0\n",
    "older_girl = 0\n",
    "either_girl = 0\n",
    "\n",
    "random.seed(0)\n",
    "for _ in range(10000):\n",
    "    younger = random_kid()\n",
    "    older = random_kid()\n",
    "    if older == \"girl\":\n",
    "        older_girl += 1\n",
    "    if older == \"girl\" and younger == \"girl\":\n",
    "        both_girls += 1\n",
    "    if older == \"girl\" or younger == \"girl\":\n",
    "        either_girl += 1\n",
    "\n",
    "print \"P(both | older):\", both_girls * 1.0 / older_girl      # 0.514 ~ 1/2\n",
    "print \"P(both | either): \", both_girls * 1.0 / either_girl   # 0.342 ~ 1/3"
   ]
  },
  {
   "cell_type": "markdown",
   "metadata": {},
   "source": [
    ">Now imagine a family with three children. Assume the only genders are 'boy' and 'girl' and that their probability of occuring are equal and independent. Write a similar piece of code that computes:\n",
    "1. the probability of three girls?\n",
    "1. the probability of two girls and one boy?\n",
    "1. the probability of one girl and two boys?\n",
    "1. the probability of three boys?\n",
    "1. the probability that all children are girls given that the oldest child is a girl?\n",
    "1. the probability that all children are girls given that one of the children is a girl?"
   ]
  },
  {
   "cell_type": "markdown",
   "metadata": {},
   "source": [
    ">**Ex. 4.1.1**: From the Wikipedia API, get a list of all Marvel superheroes and another list of all Marvel supervillains. Use 'Category:Marvel_Comics_supervillains' and 'Category:Marvel_Comics_superheroes' to get the characters in each category.\n",
    "1. How many superheroes are there? How many supervillains?\n",
    "2. How many characters are both heroes and villains? What is the Jaccard similarity between the two groups?\n",
    "\n",
    ">*Hint: Google something like \"get list all pages in category wikimedia api\" if you're struggling with the query.*"
   ]
  },
  {
   "cell_type": "markdown",
   "metadata": {
    "ExecuteTime": {
     "end_time": "2017-09-15T14:24:53.339062Z",
     "start_time": "2017-09-15T14:24:53.334274Z"
    }
   },
   "source": [
    ">**Ex. 4.1.2**: Using this list you now want to download all data you can about each character. However, because this is potentially Big Data, you cannot store it your computer's memory. Therefore, you have to store it in your harddrive somehow. \n",
    "* Create three folders on your computer, one for *heroes*, one for *villains*, and one for *ambiguous*.\n",
    "* For each character, download the markdown on their pages and save in a new file in the corresponding hero/villain/ambiguous folder."
   ]
  },
  {
   "cell_type": "markdown",
   "metadata": {},
   "source": [
    ">**Ex. 4.2.1.1**: Extract the length of the page of each character, and plot the distribution of this variable for each class (heroes/villains/ambiguous). Can you say anything about the popularity of characters in the Marvel universe based on your visualization?\n",
    "\n",
    ">*Hint: The simplest thing is to make a probability mass function, i.e. a normalized histogram. Use `plt.hist` on a list of page lengths, with the argument `normed=True`. Other distribution plots are fine too, though.*"
   ]
  },
  {
   "cell_type": "markdown",
   "metadata": {},
   "source": [
    ">**Ex. 4.2.1.2**: Find the 10 characters from each class with the longest Wikipedia pages. Visualize their page lengths with bar charts. Comment on the result."
   ]
  },
  {
   "cell_type": "markdown",
   "metadata": {},
   "source": [
    ">**Ex. 4.2.2.1**: We are interested to know if there is a time-trend in the debut of characters.\n",
    "* Extract into three lists, debut years of heroes, villains, and ambiguous characters.\n",
    "* Do all pages have a debut year? Do some have multiple? How do you handle these inconsistencies?\n",
    "* Visualize the amount of heroes introduces over time. You choose how you want to visualize this data, but please comment on your choice. Also comment on the outcome of your analysis.\n",
    "\n",
    ">*Hint: The debut year is given on the debut row in the info table of a character's Wiki-page. There are many ways that you can extract this variable. You should try to have a go at it yourself, but if you are short on time, you can use this horribly ugly regular expression code:*\n",
    "\n",
    ">*`re.findall(r\"\\d{4}\\)\", re.findall(r\"debut.+?\\n\", markup_text)[0])[0][:-1]`.*"
   ]
  },
  {
   "cell_type": "markdown",
   "metadata": {},
   "source": [
    ">**Ex. 4.2.3.1**: In this exercise we want to extract the team affiliations for each character. Each character may be associated with multiple teams. In the info table of the markup, the teams are listed in the *alliances*-field.\n",
    "* Write a regex extracts the *alliances*-field.\n",
    "* Write a regex that extracts each team from the *alliance*-field.\n",
    "* Count the number of members for each team (hint: use a `defaultdict`).\n",
    "* Inspect your team names. Are there any that result from inconsistencies in the information on the pages? How do you deal with this?\n",
    "* Print the 10 largest alliances and their number of members."
   ]
  }
 ],
 "metadata": {
  "kernelspec": {
   "display_name": "Python 2",
   "language": "python",
   "name": "python2"
  },
  "language_info": {
   "codemirror_mode": {
    "name": "ipython",
    "version": 2
   },
   "file_extension": ".py",
   "mimetype": "text/x-python",
   "name": "python",
   "nbconvert_exporter": "python",
   "pygments_lexer": "ipython2",
   "version": "2.7.13"
  },
  "nav_menu": {},
  "toc": {
   "navigate_menu": true,
   "number_sections": false,
   "sideBar": true,
   "threshold": 6,
   "toc_cell": false,
   "toc_section_display": "block",
   "toc_window_display": false
  }
 },
 "nbformat": 4,
 "nbformat_minor": 1
}
