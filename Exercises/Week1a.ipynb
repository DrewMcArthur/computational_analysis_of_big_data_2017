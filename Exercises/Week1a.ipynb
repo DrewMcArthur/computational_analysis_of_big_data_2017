{
 "cells": [
  {
   "cell_type": "markdown",
   "metadata": {
    "run_control": {
     "frozen": false,
     "read_only": false
    }
   },
   "source": [
    "# Week 1"
   ]
  },
  {
   "cell_type": "markdown",
   "metadata": {},
   "source": [
    "Welcome to *Computational Analysis of Big Data*!\n",
    "\n",
    "In this course you'll learn how to work with large amounts of real data and extract novel insights from complex systems. **If you aspire to become a Data Scientist down the road, this is the right course for you**. If you just want to learn more about working with Big Data (which is always useful knowledge in an increasingly data driven society), you have also come to the right place. And if you just came for the credits, I'm sure you'll have fun too (though I will make you work for them).\n",
    "\n",
    "During each session we'll work our way through a Jupyter Notebook like this one. There will be four assignments, each one compiling selected problems from previous weeks' exercises. We use this format because it aligns my goals with yours: I want you to come to class, be prepared and work hard when you are here. You want to minimize the amount of time you spend doing school stuff so you can enjoy your stay in Denmark. If you come to class prepared and manage to work your way through all the problems, you only have a bit of reading and copy/pasting to do outside of class.\n",
    "\n",
    "Each notebook contains (1) an overview of the things we'll go through, (2) a note about reading, which you are expected to have completed before attending each session, and (3) a section with exercises.  **To succeed in this course you simply start from the top** and follow the instructions."
   ]
  },
  {
   "cell_type": "markdown",
   "metadata": {},
   "source": [
    "## Session outline"
   ]
  },
  {
   "cell_type": "markdown",
   "metadata": {},
   "source": [
    "This session is mainly about introducing you to Big Data and Data Science. We'll also spend some time talking about the course and preparing you and your machines to do some data hacking.\n",
    "\n",
    "* Introduction to the course, and how we do things. The format may differ from what you are used to\n",
    "* Talk about how we hand in assignments and crowd-source performance evaluation using Peergrade.io\n",
    "* Course motivation with a short introduction to Data Science and the concept of Big Data\n",
    "* Group and plenary discussions about the use of Big Data in the real world\n",
    "* Getting up to speed with Github, Python and simple scripting in Jupyter Notebooks"
   ]
  },
  {
   "cell_type": "markdown",
   "metadata": {},
   "source": [
    "## Before session"
   ]
  },
  {
   "cell_type": "markdown",
   "metadata": {},
   "source": [
    "There'll be a paragraph like this in every notebook. Usually it will tell you what to read, watch or research on your own. Today it is empty."
   ]
  },
  {
   "cell_type": "markdown",
   "metadata": {},
   "source": [
    "## Exercises"
   ]
  },
  {
   "cell_type": "markdown",
   "metadata": {},
   "source": [
    "This section will contain exercises which may be questions to the text you have read before coming to class, or programming exercises."
   ]
  }
 ],
 "metadata": {
  "kernelspec": {
   "display_name": "Python 2",
   "language": "python",
   "name": "python2"
  },
  "language_info": {
   "codemirror_mode": {
    "name": "ipython",
    "version": 2
   },
   "file_extension": ".py",
   "mimetype": "text/x-python",
   "name": "python",
   "nbconvert_exporter": "python",
   "pygments_lexer": "ipython2",
   "version": "2.7.12"
  },
  "nav_menu": {},
  "toc": {
   "navigate_menu": true,
   "number_sections": false,
   "sideBar": true,
   "threshold": 6,
   "toc_cell": false,
   "toc_section_display": "block",
   "toc_window_display": true
  }
 },
 "nbformat": 4,
 "nbformat_minor": 1
}
