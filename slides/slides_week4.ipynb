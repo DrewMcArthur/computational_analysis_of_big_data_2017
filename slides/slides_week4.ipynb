{
 "cells": [
  {
   "cell_type": "markdown",
   "metadata": {
    "slideshow": {
     "slide_type": "slide"
    }
   },
   "source": [
    "# Getting data: scraping and APIs\n",
    "**Week 4**, September 21, 2017"
   ]
  },
  {
   "cell_type": "markdown",
   "metadata": {
    "collapsed": true,
    "run_control": {
     "frozen": false,
     "read_only": false
    },
    "slideshow": {
     "slide_type": "slide"
    }
   },
   "source": [
    "<center>![dataformat](http://ulfaslak.com/computational_analysis_of_big_data/slide_figures/0P0cZ.png)</center>"
   ]
  },
  {
   "cell_type": "markdown",
   "metadata": {
    "slideshow": {
     "slide_type": "subslide"
    }
   },
   "source": [
    "<center>![dataformat](http://ulfaslak.com/computational_analysis_of_big_data/slide_figures/Data_Science_VD.png)</center>"
   ]
  },
  {
   "cell_type": "markdown",
   "metadata": {
    "slideshow": {
     "slide_type": "subslide"
    }
   },
   "source": [
    "## How do you get data from the web:\n",
    "1. Open data.\n",
    "1. You request it from someone's API.\n",
    "1. You forcefully take it from their website (scraping)."
   ]
  },
  {
   "cell_type": "markdown",
   "metadata": {
    "slideshow": {
     "slide_type": "subslide"
    }
   },
   "source": [
    "### How (most) websites work"
   ]
  },
  {
   "cell_type": "markdown",
   "metadata": {
    "slideshow": {
     "slide_type": "subslide"
    }
   },
   "source": [
    "#### API: Application Programming Interface\n",
    "From Wikipedia: *By abstracting the underlying implementation and **only exposing objects or actions the developer needs**, an API simplifies programming.*"
   ]
  },
  {
   "cell_type": "markdown",
   "metadata": {
    "slideshow": {
     "slide_type": "subslide"
    }
   },
   "source": [
    "<center>![dataformat](http://ulfaslak.com/computational_analysis_of_big_data/slide_figures/getdata1.png)</center>"
   ]
  },
  {
   "cell_type": "markdown",
   "metadata": {
    "slideshow": {
     "slide_type": "subslide"
    }
   },
   "source": [
    "<center>![dataformat](http://ulfaslak.com/computational_analysis_of_big_data/slide_figures/getdata2.png)</center>"
   ]
  },
  {
   "cell_type": "markdown",
   "metadata": {
    "slideshow": {
     "slide_type": "slide"
    }
   },
   "source": [
    "## Example: Jobnet.dk"
   ]
  },
  {
   "cell_type": "code",
   "execution_count": 70,
   "metadata": {
    "ExecuteTime": {
     "end_time": "2017-09-21T11:30:16.850724Z",
     "start_time": "2017-09-21T11:30:16.723241Z"
    },
    "slideshow": {
     "slide_type": "-"
    }
   },
   "outputs": [],
   "source": [
    "import requests as rq\n",
    "html = rq.get(\"https://job.jobnet.dk/CV/FindWork?Offset=0&SortValue=BestMatch\").text\n",
    "\n",
    "api_data = rq.get(\n",
    "    url=\"https://job.jobnet.dk/CV/FindWork?Offset=0&SortValue=BestMatch\",\n",
    "    headers={\n",
    "        \"model\": {\n",
    "            \"Offset\": \"\",\n",
    "            \"Count\": 20,\n",
    "            \"SearchString\": \"\",\n",
    "            \"SortValue\": \"BestMatch\",\n",
    "            \"Id\": [],\n",
    "            \"EarliestPublicationDate\": None,\n",
    "            \"HotJob\": None,\n",
    "            \"Abroad\": None,\n",
    "            \"NearBy\": \"\",\n",
    "            \"OnlyGeoPoints\": False,\n",
    "            \"WorkPlaceNotStatic\": None,\n",
    "            \"Facets\": {\n",
    "                \"Region\": None,\n",
    "                \"Country\": None,\n",
    "                \"Municipality\": None,\n",
    "                \"PostalCode\": None,\n",
    "                \"OccupationAreas\": None,\n",
    "                \"OccupationGroups\": None,\n",
    "                \"Occupations\": None,\n",
    "                \"EmploymentType\": None,\n",
    "                \"WorkHours\": None,\n",
    "                \"JobAnnouncementType\": None,\n",
    "                \"WorkPlaceNotStatic\": None\n",
    "            },\n",
    "            \"LocatedIn\": None,\n",
    "            \"LocationZip\": None,\n",
    "            \"Location\": None,\n",
    "            \"SearchInGeoDistance\": 0\n",
    "        },\n",
    "        \"url\": \"/CV/FindWork?Offset=0&SortValue=BestMatch\"\n",
    "    }\n",
    ")"
   ]
  },
  {
   "cell_type": "code",
   "execution_count": 1,
   "metadata": {
    "ExecuteTime": {
     "end_time": "2017-09-21T10:46:59.515574Z",
     "start_time": "2017-09-21T10:46:59.383921Z"
    },
    "collapsed": true,
    "run_control": {
     "frozen": false,
     "read_only": false
    },
    "slideshow": {
     "slide_type": "subslide"
    }
   },
   "outputs": [],
   "source": [
    "import requests as rq\n",
    "html = rq.get(\"https://job.jobnet.dk/CV/FindWork?Offset=0&SortValue=BestMatch\").text"
   ]
  },
  {
   "cell_type": "code",
   "execution_count": 73,
   "metadata": {
    "ExecuteTime": {
     "end_time": "2017-09-21T11:31:18.074074Z",
     "start_time": "2017-09-21T11:31:17.688377Z"
    }
   },
   "outputs": [],
   "source": [
    "api_result = rq.get(\n",
    "    url=\"https://job.jobnet.dk/CV/FindWork/Search\",\n",
    "    headers={\n",
    "        \"model\": {\n",
    "            \"Offset\": \"1\",\n",
    "            \"Count\": 20,\n",
    "            \"SearchString\": \"\",\n",
    "            \"SortValue\": \"BestMatch\",\n",
    "            \"Id\": [],\n",
    "            \"EarliestPublicationDate\": None,\n",
    "            \"HotJob\": None,\n",
    "            \"Abroad\": None,\n",
    "            \"NearBy\": \"\",\n",
    "            \"OnlyGeoPoints\": False,\n",
    "            \"WorkPlaceNotStatic\": None,\n",
    "            \"Facets\": {\n",
    "                \"Region\": None,\n",
    "                \"Country\": None,\n",
    "                \"Municipality\": None,\n",
    "                \"PostalCode\": None,\n",
    "                \"OccupationAreas\": None,\n",
    "                \"OccupationGroups\": None,\n",
    "                \"Occupations\": None,\n",
    "                \"EmploymentType\": None,\n",
    "                \"WorkHours\": None,\n",
    "                \"JobAnnouncementType\": None,\n",
    "                \"WorkPlaceNotStatic\": None\n",
    "            },\n",
    "            \"LocatedIn\": None,\n",
    "            \"LocationZip\": None,\n",
    "            \"Location\": None,\n",
    "            \"SearchInGeoDistance\": 0\n",
    "        },\n",
    "        \"url\": \"/CV/FindWork?Offset=0&SortValue=BestMatch\"\n",
    "    }\n",
    ").json()"
   ]
  },
  {
   "cell_type": "code",
   "execution_count": null,
   "metadata": {
    "collapsed": true
   },
   "outputs": [],
   "source": []
  }
 ],
 "metadata": {
  "celltoolbar": "Slideshow",
  "kernelspec": {
   "display_name": "Python 2",
   "language": "python",
   "name": "python2"
  },
  "language_info": {
   "codemirror_mode": {
    "name": "ipython",
    "version": 2
   },
   "file_extension": ".py",
   "mimetype": "text/x-python",
   "name": "python",
   "nbconvert_exporter": "python",
   "pygments_lexer": "ipython2",
   "version": "2.7.13"
  },
  "nav_menu": {},
  "toc": {
   "navigate_menu": true,
   "number_sections": false,
   "sideBar": true,
   "threshold": 6,
   "toc_cell": false,
   "toc_section_display": "block",
   "toc_window_display": false
  }
 },
 "nbformat": 4,
 "nbformat_minor": 1
}
