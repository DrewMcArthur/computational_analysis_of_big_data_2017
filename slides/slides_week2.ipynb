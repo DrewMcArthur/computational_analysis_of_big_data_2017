{
 "cells": [
  {
   "cell_type": "code",
   "execution_count": 3,
   "metadata": {
    "ExecuteTime": {
     "end_time": "2017-08-29T08:47:50.176528Z",
     "start_time": "2017-08-29T08:47:50.156728Z"
    },
    "run_control": {
     "frozen": false,
     "read_only": false
    }
   },
   "outputs": [
    {
     "data": {
      "text/plain": [
       "{'scroll': True,\n",
       " u'scrolling': u'true',\n",
       " u'start_slideshow_at': 'selected',\n",
       " u'theme': 'serif',\n",
       " u'transition': 'linear'}"
      ]
     },
     "execution_count": 3,
     "metadata": {},
     "output_type": "execute_result"
    }
   ],
   "source": [
    "from IPython.display import YouTubeVideo\n",
    "from traitlets.config.manager import BaseJSONConfigManager\n",
    "path = \"/usr/local/etc/jupyter/nbconfig\"\n",
    "cm = BaseJSONConfigManager(config_dir=path)\n",
    "cm.update(\n",
    "    'livereveal', {\n",
    "        'theme': 'serif',\n",
    "        'transition': 'linear',\n",
    "        'start_slideshow_at': 'selected',\n",
    "        'scroll': True\n",
    "    }\n",
    ")"
   ]
  },
  {
   "cell_type": "markdown",
   "metadata": {
    "slideshow": {
     "slide_type": "slide"
    }
   },
   "source": [
    "# Data science and visualization"
   ]
  },
  {
   "cell_type": "markdown",
   "metadata": {},
   "source": [
    "**Week 2**, August 31, 2017"
   ]
  },
  {
   "cell_type": "markdown",
   "metadata": {
    "slideshow": {
     "slide_type": "slide"
    }
   },
   "source": [
    "# What is Data Science?"
   ]
  },
  {
   "cell_type": "markdown",
   "metadata": {
    "slideshow": {
     "slide_type": "subslide"
    }
   },
   "source": [
    "<center>![RoadToDataScientist1.png](http://ulfaslak.com/computational_analysis_of_big_data/slide_figures/RoadToDataScientist1.png)</center>"
   ]
  },
  {
   "cell_type": "markdown",
   "metadata": {
    "slideshow": {
     "slide_type": "subslide"
    }
   },
   "source": [
    "## What we care about\n",
    "* Fundamentals\n",
    "* Statistics\n",
    "* Programming **(always)**\n",
    "* Machine Learning\n",
    "* Visualization **(today, most weeks)**\n",
    "* Big Data\n",
    "* Data Munging **(today, most weeks)**"
   ]
  },
  {
   "cell_type": "markdown",
   "metadata": {
    "slideshow": {
     "slide_type": "slide"
    }
   },
   "source": [
    "## Visualization\n",
    "####  Static and Interactive"
   ]
  },
  {
   "cell_type": "markdown",
   "metadata": {
    "slideshow": {
     "slide_type": "subslide"
    }
   },
   "source": [
    "### Static visualizations\n",
    "\n",
    "* Scatter plot\n",
    "* Line plot\n",
    "* Bar plot\n",
    "* Distribution plots\n",
    "    * Histogram\n",
    "    * Kernel density estimation plot\n",
    "    * Rugplot\n",
    "    * Box plot\n",
    "    * Violin plot\n",
    "* Heatmap\n",
    "* Pair plot\n",
    "* Time series plot\n",
    "\n",
    "[Examples](http://seaborn.pydata.org/examples/)"
   ]
  },
  {
   "cell_type": "code",
   "execution_count": null,
   "metadata": {
    "collapsed": true,
    "run_control": {
     "frozen": false,
     "read_only": false
    },
    "slideshow": {
     "slide_type": "subslide"
    }
   },
   "outputs": [],
   "source": []
  },
  {
   "cell_type": "markdown",
   "metadata": {
    "slideshow": {
     "slide_type": "slide"
    }
   },
   "source": [
    "### Interactive visualizations"
   ]
  },
  {
   "cell_type": "markdown",
   "metadata": {},
   "source": [
    "* Presidential candidate namedropping in Hip Hop songs [link](https://projects.fivethirtyeight.com/clinton-trump-hip-hop-lyrics/) [video](http://fivethirtyeight.com/features/how-we-charted-trumps-fall-from-grace-in-hip-hop/)\n",
    "* The success of scientists [link](http://kimalbrecht.com/project/science-paths/)\n",
    "* How university students cluster [link](http://ulfaslak.com/portfolio/Visualisation/)\n",
    "* Network and agent based models [link](http://rocs.hu-berlin.de/)"
   ]
  },
  {
   "cell_type": "code",
   "execution_count": null,
   "metadata": {
    "collapsed": true,
    "run_control": {
     "frozen": false,
     "read_only": false
    }
   },
   "outputs": [],
   "source": []
  }
 ],
 "metadata": {
  "celltoolbar": "Slideshow",
  "kernelspec": {
   "display_name": "Python 2",
   "language": "python",
   "name": "python2"
  },
  "language_info": {
   "codemirror_mode": {
    "name": "ipython",
    "version": 2
   },
   "file_extension": ".py",
   "mimetype": "text/x-python",
   "name": "python",
   "nbconvert_exporter": "python",
   "pygments_lexer": "ipython2",
   "version": "2.7.13"
  },
  "nav_menu": {},
  "toc": {
   "navigate_menu": true,
   "number_sections": false,
   "sideBar": true,
   "threshold": 6,
   "toc_cell": false,
   "toc_section_display": "block",
   "toc_window_display": false
  }
 },
 "nbformat": 4,
 "nbformat_minor": 1
}
