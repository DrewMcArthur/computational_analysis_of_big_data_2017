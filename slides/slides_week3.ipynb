{
 "cells": [
  {
   "cell_type": "code",
   "execution_count": 44,
   "metadata": {
    "ExecuteTime": {
     "end_time": "2017-09-07T08:39:08.328298Z",
     "start_time": "2017-09-07T08:39:08.321295Z"
    },
    "collapsed": true,
    "run_control": {
     "frozen": false,
     "read_only": false
    }
   },
   "outputs": [],
   "source": [
    "from IPython.display import YouTubeVideo\n",
    "from traitlets.config.manager import BaseJSONConfigManager\n",
    "path = \"/usr/local/etc/jupyter/nbconfig\"\n",
    "cm = BaseJSONConfigManager(config_dir=path)\n",
    "cm.update(\n",
    "    'livereveal', {\n",
    "        'theme': 'serif',\n",
    "        'transition': 'linear',\n",
    "        'start_slideshow_at': 'selected',\n",
    "        'scroll': True\n",
    "    }\n",
    ")\n",
    "np.set_printoptions(precision=2)"
   ]
  },
  {
   "cell_type": "markdown",
   "metadata": {
    "slideshow": {
     "slide_type": "slide"
    }
   },
   "source": [
    "# Fundamentals"
   ]
  },
  {
   "cell_type": "markdown",
   "metadata": {},
   "source": [
    "**Week 3**, September 7, 2017"
   ]
  },
  {
   "cell_type": "markdown",
   "metadata": {
    "slideshow": {
     "slide_type": "slide"
    }
   },
   "source": [
    "## Today\n",
    "\n",
    "* Linear algebra\n",
    "* Statistics\n",
    "* Probability theory\n",
    "* Hypothesis and Inference"
   ]
  },
  {
   "cell_type": "markdown",
   "metadata": {
    "slideshow": {
     "slide_type": "slide"
    }
   },
   "source": [
    "## Linear algebra\n",
    "\n",
    "*A principled way of manipulating data*"
   ]
  },
  {
   "cell_type": "markdown",
   "metadata": {
    "slideshow": {
     "slide_type": "subslide"
    }
   },
   "source": [
    "In linear algebra, everything is a **tensor**. All objects are tensors of some dimensionality.\n",
    "\n",
    "### Objects\n",
    "* Scalars\n",
    "* Vectors\n",
    "* Matrices"
   ]
  },
  {
   "cell_type": "code",
   "execution_count": 52,
   "metadata": {
    "ExecuteTime": {
     "end_time": "2017-09-07T11:19:37.021151Z",
     "start_time": "2017-09-07T11:19:37.014904Z"
    },
    "run_control": {
     "frozen": false,
     "read_only": false
    },
    "slideshow": {
     "slide_type": "subslide"
    }
   },
   "outputs": [
    {
     "data": {
      "text/plain": [
       "array([[[88, 89, 78, 57, 98],\n",
       "        [60, 69, 40, 51, 43],\n",
       "        [67, 98, 28, 37, 60],\n",
       "        [74, 58, 47, 72, 44],\n",
       "        [46, 38, 60, 59, 93]],\n",
       "\n",
       "       [[82, 22, 33, 23, 19],\n",
       "        [30,  3, 51, 46, 89],\n",
       "        [74, 90, 80,  7, 82],\n",
       "        [65, 91, 94,  6, 14],\n",
       "        [65, 49, 57, 55, 43]],\n",
       "\n",
       "       [[ 3, 22, 49, 26, 57],\n",
       "        [98, 19, 89, 55, 90],\n",
       "        [57, 88, 85, 96, 13],\n",
       "        [73, 79, 69, 72, 65],\n",
       "        [84, 98, 14, 23, 93]],\n",
       "\n",
       "       [[14, 78, 53, 75, 82],\n",
       "        [76, 51, 85, 80, 58],\n",
       "        [95, 80, 75, 26, 65],\n",
       "        [87, 73,  7, 31, 12],\n",
       "        [52, 94, 10,  4, 18]],\n",
       "\n",
       "       [[17, 89, 33, 78, 10],\n",
       "        [20, 63, 14, 99,  9],\n",
       "        [12, 15, 90, 73,  7],\n",
       "        [30, 84, 98, 86, 68],\n",
       "        [39, 27, 59, 32, 50]]])"
      ]
     },
     "execution_count": 52,
     "metadata": {},
     "output_type": "execute_result"
    }
   ],
   "source": [
    "import numpy as np\n",
    "np.random.randint(1, 100, size=(5, 5, 5))"
   ]
  },
  {
   "cell_type": "markdown",
   "metadata": {
    "slideshow": {
     "slide_type": "subslide"
    }
   },
   "source": [
    "### Operations\n",
    "* Products: dot, cross\n",
    "* Elementwise: addition, subtraction, multiplication, division\n",
    "* Mutations: Transpose, inverse/pseudo-inverse, scaling, rotation, ..."
   ]
  },
  {
   "cell_type": "markdown",
   "metadata": {
    "slideshow": {
     "slide_type": "subslide"
    }
   },
   "source": [
    "A 2D tensor is called a **matrix**. We can use matrices to represent our data."
   ]
  },
  {
   "cell_type": "markdown",
   "metadata": {
    "slideshow": {
     "slide_type": "-"
    }
   },
   "source": [
    "<center>![dataformat](http://ulfaslak.com/computational_analysis_of_big_data/slide_figures/dataformat.png)</center>"
   ]
  },
  {
   "cell_type": "markdown",
   "metadata": {
    "collapsed": true,
    "run_control": {
     "frozen": false,
     "read_only": false
    },
    "slideshow": {
     "slide_type": "subslide"
    }
   },
   "source": [
    "### Applications"
   ]
  },
  {
   "cell_type": "markdown",
   "metadata": {},
   "source": [
    "* Dimensionality reduction\n",
    "* Factor analysis\n",
    "* Regression\n",
    "* Machine learning"
   ]
  },
  {
   "cell_type": "markdown",
   "metadata": {
    "slideshow": {
     "slide_type": "slide"
    }
   },
   "source": [
    "## Statistics\n",
    "*Convenient language for summarizing data*"
   ]
  },
  {
   "cell_type": "markdown",
   "metadata": {
    "slideshow": {
     "slide_type": "subslide"
    }
   },
   "source": [
    "### Our statistics vocabulary\n",
    "* Mean, median\n",
    "    * *Where is the data?*\n",
    "* Variance, standard deviation, range\n",
    "    * *How spread out is the data?*\n",
    "* Correlation, covariance\n",
    "    * *How does two variables depend on each other?*"
   ]
  },
  {
   "cell_type": "markdown",
   "metadata": {
    "slideshow": {
     "slide_type": "subslide"
    }
   },
   "source": [
    "### Challenges\n",
    "* Outliers\n",
    "* Simpsons paradox\n",
    "* Causation"
   ]
  },
  {
   "cell_type": "markdown",
   "metadata": {
    "slideshow": {
     "slide_type": "slide"
    }
   },
   "source": [
    "## Probability theory\n",
    "*Formalized way to deal with randomness*"
   ]
  },
  {
   "cell_type": "markdown",
   "metadata": {
    "slideshow": {
     "slide_type": "subslide"
    }
   },
   "source": [
    "### Concepts in probability theory\n",
    "1. Discrete, continuous\n",
    "2. Random, stochastic\n",
    "3. Distribution, process\n",
    "4. Probability mass function (pmf), probability density function (pdf), cumulative density function (cdf)"
   ]
  },
  {
   "cell_type": "markdown",
   "metadata": {},
   "source": [
    "### Properties"
   ]
  },
  {
   "cell_type": "markdown",
   "metadata": {
    "slideshow": {
     "slide_type": "slide"
    }
   },
   "source": [
    "## Hypothesis and Inference\n",
    "*Is there something interesting going on with this data?*"
   ]
  },
  {
   "cell_type": "markdown",
   "metadata": {
    "slideshow": {
     "slide_type": "subslide"
    }
   },
   "source": [
    "### Vocabulary\n",
    "* Null hypothesis, $H_0$\n",
    "* Null model, statistical test, power\n",
    "* p-value, significance level"
   ]
  }
 ],
 "metadata": {
  "celltoolbar": "Slideshow",
  "kernelspec": {
   "display_name": "Python 2",
   "language": "python",
   "name": "python2"
  },
  "language_info": {
   "codemirror_mode": {
    "name": "ipython",
    "version": 2
   },
   "file_extension": ".py",
   "mimetype": "text/x-python",
   "name": "python",
   "nbconvert_exporter": "python",
   "pygments_lexer": "ipython2",
   "version": "2.7.13"
  },
  "nav_menu": {},
  "toc": {
   "navigate_menu": true,
   "number_sections": false,
   "sideBar": true,
   "threshold": 6,
   "toc_cell": false,
   "toc_section_display": "block",
   "toc_window_display": false
  }
 },
 "nbformat": 4,
 "nbformat_minor": 1
}
